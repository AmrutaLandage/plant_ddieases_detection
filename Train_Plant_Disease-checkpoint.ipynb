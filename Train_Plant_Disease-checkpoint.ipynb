{
 "cells": [
  {
   "cell_type": "code",
   "execution_count": 1,
   "id": "41323636-224e-4efc-a464-35c4116f3277",
   "metadata": {},
   "outputs": [],
   "source": [
    "import tensorflow as tf\n",
    "import matplotlib.pyplot as plt\n",
    "import pandas as pd\n",
    "import seaborn as sns\n"
   ]
  },
  {
   "cell_type": "code",
   "execution_count": 2,
   "id": "e50ae71a-e2f7-4120-9b90-88cf6669a78c",
   "metadata": {},
   "outputs": [
    {
     "name": "stdout",
     "output_type": "stream",
     "text": [
      "Found 70295 files belonging to 38 classes.\n"
     ]
    }
   ],
   "source": [
    "training_set = tf.keras.utils.image_dataset_from_directory(\n",
    "    'train',\n",
    "    labels=\"inferred\",\n",
    "    label_mode=\"categorical\",\n",
    "    class_names=None,\n",
    "    color_mode=\"rgb\",\n",
    "    batch_size=32,\n",
    "    image_size=(128, 128),\n",
    "    shuffle=True,\n",
    "    seed=None,\n",
    "    validation_split=None,\n",
    "    subset=None,\n",
    "    interpolation=\"bilinear\",\n",
    "    follow_links=False,\n",
    "    crop_to_aspect_ratio=False,\n",
    ")"
   ]
  },
  {
   "cell_type": "code",
   "execution_count": 3,
   "id": "57e9ebba-db14-4e6a-89be-f3faee120a4b",
   "metadata": {},
   "outputs": [
    {
     "name": "stdout",
     "output_type": "stream",
     "text": [
      "Found 17572 files belonging to 38 classes.\n"
     ]
    }
   ],
   "source": [
    "validation_set = tf.keras.utils.image_dataset_from_directory(\n",
    "    'valid',\n",
    "    labels=\"inferred\",\n",
    "    label_mode=\"categorical\",\n",
    "    class_names=None,\n",
    "    color_mode=\"rgb\",\n",
    "    batch_size=32,\n",
    "    image_size=(128, 128),\n",
    "    shuffle=True,\n",
    "    seed=None,\n",
    "    validation_split=None,\n",
    "    subset=None,\n",
    "    interpolation=\"bilinear\",\n",
    "    follow_links=False,\n",
    "    crop_to_aspect_ratio=False,\n",
    "   \n",
    ")\n"
   ]
  },
  {
   "cell_type": "code",
   "execution_count": 4,
   "id": "c2f9ade9-e772-4915-9c7c-d4486c56ee7c",
   "metadata": {},
   "outputs": [
    {
     "data": {
      "text/plain": [
       "<_PrefetchDataset element_spec=(TensorSpec(shape=(None, 128, 128, 3), dtype=tf.float32, name=None), TensorSpec(shape=(None, 38), dtype=tf.float32, name=None))>"
      ]
     },
     "execution_count": 4,
     "metadata": {},
     "output_type": "execute_result"
    }
   ],
   "source": [
    "training_set"
   ]
  },
  {
   "cell_type": "code",
   "execution_count": 5,
   "id": "d9c580a0-61af-4205-988c-9ee4acf49004",
   "metadata": {},
   "outputs": [
    {
     "name": "stdout",
     "output_type": "stream",
     "text": [
      "tf.Tensor(\n",
      "[[[[ 81.5  101.5  152.5 ]\n",
      "   [ 79.25  99.25 150.25]\n",
      "   [ 77.75  97.75 148.75]\n",
      "   ...\n",
      "   [ 52.    37.    65.25]\n",
      "   [ 47.5   36.    65.25]\n",
      "   [ 48.    39.5   70.5 ]]\n",
      "\n",
      "  [[ 85.5  105.5  156.5 ]\n",
      "   [ 83.5  103.5  154.5 ]\n",
      "   [ 82.   102.   153.  ]\n",
      "   ...\n",
      "   [ 52.75  37.5   62.25]\n",
      "   [ 47.25  32.5   60.75]\n",
      "   [ 51.5   38.    67.5 ]]\n",
      "\n",
      "  [[ 87.5  107.5  158.5 ]\n",
      "   [ 85.25 105.25 156.25]\n",
      "   [ 83.5  103.5  154.5 ]\n",
      "   ...\n",
      "   [ 42.    24.75  43.25]\n",
      "   [ 47.5   30.    54.  ]\n",
      "   [ 47.    29.25  56.5 ]]\n",
      "\n",
      "  ...\n",
      "\n",
      "  [[189.   195.   221.  ]\n",
      "   [192.25 198.25 224.25]\n",
      "   [196.25 202.25 228.25]\n",
      "   ...\n",
      "   [ 94.5   86.5  133.5 ]\n",
      "   [ 90.25  82.25 129.25]\n",
      "   [ 96.25  88.25 135.25]]\n",
      "\n",
      "  [[186.25 192.25 218.25]\n",
      "   [189.25 195.25 221.25]\n",
      "   [194.75 200.75 226.75]\n",
      "   ...\n",
      "   [ 83.75  75.75 122.75]\n",
      "   [ 84.75  76.75 123.75]\n",
      "   [ 91.25  83.25 130.25]]\n",
      "\n",
      "  [[199.5  205.5  231.5 ]\n",
      "   [193.5  199.5  225.5 ]\n",
      "   [193.   199.   225.  ]\n",
      "   ...\n",
      "   [ 77.75  69.75 116.75]\n",
      "   [ 85.75  77.75 124.75]\n",
      "   [ 84.25  76.25 123.25]]]\n",
      "\n",
      "\n",
      " [[[255.   255.   255.  ]\n",
      "   [255.   255.   255.  ]\n",
      "   [255.   255.   255.  ]\n",
      "   ...\n",
      "   [255.   255.   255.  ]\n",
      "   [255.   255.   255.  ]\n",
      "   [255.   255.   255.  ]]\n",
      "\n",
      "  [[255.   255.   255.  ]\n",
      "   [255.   255.   255.  ]\n",
      "   [255.   255.   255.  ]\n",
      "   ...\n",
      "   [255.   255.   255.  ]\n",
      "   [255.   255.   255.  ]\n",
      "   [255.   255.   255.  ]]\n",
      "\n",
      "  [[255.   255.   255.  ]\n",
      "   [255.   255.   255.  ]\n",
      "   [255.   255.   255.  ]\n",
      "   ...\n",
      "   [255.   255.   255.  ]\n",
      "   [255.   255.   255.  ]\n",
      "   [255.   255.   255.  ]]\n",
      "\n",
      "  ...\n",
      "\n",
      "  [[179.25 169.25 160.25]\n",
      "   [185.   175.   166.  ]\n",
      "   [189.   179.   170.  ]\n",
      "   ...\n",
      "   [255.   255.   255.  ]\n",
      "   [255.   255.   255.  ]\n",
      "   [255.   255.   255.  ]]\n",
      "\n",
      "  [[199.25 189.25 180.25]\n",
      "   [194.5  184.5  175.5 ]\n",
      "   [190.5  180.5  171.5 ]\n",
      "   ...\n",
      "   [255.   255.   255.  ]\n",
      "   [255.   255.   255.  ]\n",
      "   [255.   255.   255.  ]]\n",
      "\n",
      "  [[195.25 185.25 176.25]\n",
      "   [186.75 176.75 167.75]\n",
      "   [183.   173.   164.  ]\n",
      "   ...\n",
      "   [255.   255.   255.  ]\n",
      "   [255.   255.   255.  ]\n",
      "   [255.   255.   255.  ]]]\n",
      "\n",
      "\n",
      " [[[119.   111.   108.  ]\n",
      "   [121.   113.   110.  ]\n",
      "   [122.   114.   111.  ]\n",
      "   ...\n",
      "   [141.75 131.75 129.75]\n",
      "   [144.   134.   132.  ]\n",
      "   [146.5  136.5  134.5 ]]\n",
      "\n",
      "  [[119.5  111.5  108.5 ]\n",
      "   [121.   113.   110.  ]\n",
      "   [121.25 113.25 110.25]\n",
      "   ...\n",
      "   [144.75 134.75 132.75]\n",
      "   [143.75 133.75 131.75]\n",
      "   [140.25 130.25 128.25]]\n",
      "\n",
      "  [[118.75 110.75 107.75]\n",
      "   [119.75 111.75 108.75]\n",
      "   [119.25 111.25 108.25]\n",
      "   ...\n",
      "   [142.25 132.25 130.25]\n",
      "   [139.5  129.5  127.5 ]\n",
      "   [140.5  130.5  128.5 ]]\n",
      "\n",
      "  ...\n",
      "\n",
      "  [[131.   122.   125.  ]\n",
      "   [130.5  121.5  124.5 ]\n",
      "   [130.5  121.5  124.5 ]\n",
      "   ...\n",
      "   [194.25 186.25 184.25]\n",
      "   [193.5  185.5  183.5 ]\n",
      "   [190.5  182.5  180.5 ]]\n",
      "\n",
      "  [[134.25 125.25 128.25]\n",
      "   [133.25 124.25 127.25]\n",
      "   [132.25 123.25 126.25]\n",
      "   ...\n",
      "   [193.75 185.75 183.75]\n",
      "   [195.5  187.5  185.5 ]\n",
      "   [194.5  186.5  184.5 ]]\n",
      "\n",
      "  [[136.5  127.5  130.5 ]\n",
      "   [135.25 126.25 129.25]\n",
      "   [133.5  124.5  127.5 ]\n",
      "   ...\n",
      "   [196.   188.   186.  ]\n",
      "   [197.75 189.75 187.75]\n",
      "   [199.75 191.75 189.75]]]\n",
      "\n",
      "\n",
      " ...\n",
      "\n",
      "\n",
      " [[[ 87.5   82.5   79.5 ]\n",
      "   [ 77.5   72.5   69.5 ]\n",
      "   [ 84.5   79.5   76.5 ]\n",
      "   ...\n",
      "   [ 88.25  84.25  85.25]\n",
      "   [ 85.5   81.5   82.5 ]\n",
      "   [ 86.25  82.25  83.25]]\n",
      "\n",
      "  [[ 85.5   80.5   77.5 ]\n",
      "   [ 86.25  81.25  78.25]\n",
      "   [ 92.25  87.25  84.25]\n",
      "   ...\n",
      "   [ 89.25  85.25  86.25]\n",
      "   [ 88.    84.    85.  ]\n",
      "   [ 87.    83.    84.  ]]\n",
      "\n",
      "  [[ 83.25  78.25  75.25]\n",
      "   [ 83.25  78.25  75.25]\n",
      "   [ 88.    83.    80.  ]\n",
      "   ...\n",
      "   [ 88.    84.    85.  ]\n",
      "   [ 89.25  85.25  86.25]\n",
      "   [ 85.25  81.25  82.25]]\n",
      "\n",
      "  ...\n",
      "\n",
      "  [[ 69.25  75.25  73.25]\n",
      "   [ 65.75  71.75  69.75]\n",
      "   [ 67.5   73.5   71.5 ]\n",
      "   ...\n",
      "   [ 89.    98.    97.  ]\n",
      "   [ 89.25  98.25  97.25]\n",
      "   [ 90.75  99.75  98.75]]\n",
      "\n",
      "  [[ 68.    74.    72.  ]\n",
      "   [ 71.    77.    75.  ]\n",
      "   [ 69.5   75.5   73.5 ]\n",
      "   ...\n",
      "   [ 89.25  98.25  97.25]\n",
      "   [ 89.    98.    97.  ]\n",
      "   [ 89.75  98.75  97.75]]\n",
      "\n",
      "  [[ 68.5   74.5   72.5 ]\n",
      "   [ 70.25  76.25  74.25]\n",
      "   [ 67.5   73.5   71.5 ]\n",
      "   ...\n",
      "   [ 91.   100.    99.  ]\n",
      "   [ 90.5   99.5   98.5 ]\n",
      "   [ 90.75  99.75  98.75]]]\n",
      "\n",
      "\n",
      " [[[ 69.5   60.    59.  ]\n",
      "   [137.75 126.75 124.75]\n",
      "   [153.25 139.25 138.25]\n",
      "   ...\n",
      "   [170.25 159.25 157.25]\n",
      "   [162.25 151.25 149.25]\n",
      "   [174.5  163.5  161.5 ]]\n",
      "\n",
      "  [[ 77.5   67.25  65.75]\n",
      "   [145.25 134.25 132.25]\n",
      "   [135.75 121.75 120.75]\n",
      "   ...\n",
      "   [184.5  173.5  171.5 ]\n",
      "   [170.75 159.75 157.75]\n",
      "   [166.25 155.25 153.25]]\n",
      "\n",
      "  [[101.    90.75  89.25]\n",
      "   [136.5  125.5  123.5 ]\n",
      "   [150.25 136.25 135.25]\n",
      "   ...\n",
      "   [178.   167.   165.  ]\n",
      "   [176.5  165.5  163.5 ]\n",
      "   [170.5  159.5  157.5 ]]\n",
      "\n",
      "  ...\n",
      "\n",
      "  [[  5.75   6.25  11.25]\n",
      "   [ 11.25  12.25  17.25]\n",
      "   [ 14.    13.    18.  ]\n",
      "   ...\n",
      "   [178.5  166.5  166.5 ]\n",
      "   [194.75 182.75 182.75]\n",
      "   [179.75 167.75 167.75]]\n",
      "\n",
      "  [[  6.25   5.75  13.25]\n",
      "   [ 12.25  11.25  17.25]\n",
      "   [ 14.    13.    19.  ]\n",
      "   ...\n",
      "   [166.   154.   154.  ]\n",
      "   [174.5  162.5  162.5 ]\n",
      "   [179.5  167.5  167.5 ]]\n",
      "\n",
      "  [[  7.     6.5   14.  ]\n",
      "   [ 13.75  12.75  20.75]\n",
      "   [ 15.5   14.5   20.5 ]\n",
      "   ...\n",
      "   [175.5  163.5  163.5 ]\n",
      "   [171.75 159.75 159.75]\n",
      "   [188.5  176.5  176.5 ]]]\n",
      "\n",
      "\n",
      " [[[148.   150.   163.  ]\n",
      "   [138.25 140.25 153.25]\n",
      "   [152.   154.   167.  ]\n",
      "   ...\n",
      "   [145.25 147.25 159.25]\n",
      "   [117.   119.   131.  ]\n",
      "   [116.5  118.5  130.5 ]]\n",
      "\n",
      "  [[148.5  150.5  163.5 ]\n",
      "   [145.25 147.25 160.25]\n",
      "   [146.25 148.25 161.25]\n",
      "   ...\n",
      "   [132.   134.   146.  ]\n",
      "   [124.5  126.5  138.5 ]\n",
      "   [128.25 130.25 142.25]]\n",
      "\n",
      "  [[141.25 143.25 156.25]\n",
      "   [144.5  146.5  159.5 ]\n",
      "   [144.5  146.5  159.5 ]\n",
      "   ...\n",
      "   [111.75 113.75 125.75]\n",
      "   [128.25 130.25 142.25]\n",
      "   [127.   129.   141.  ]]\n",
      "\n",
      "  ...\n",
      "\n",
      "  [[171.25 169.25 180.25]\n",
      "   [179.75 177.75 188.75]\n",
      "   [179.75 177.75 188.75]\n",
      "   ...\n",
      "   [128.5  125.5  134.5 ]\n",
      "   [114.5  111.5  120.5 ]\n",
      "   [108.25 105.25 114.25]]\n",
      "\n",
      "  [[170.25 168.25 179.25]\n",
      "   [173.25 171.25 182.25]\n",
      "   [173.5  171.5  182.5 ]\n",
      "   ...\n",
      "   [124.5  121.5  130.5 ]\n",
      "   [123.   120.   129.  ]\n",
      "   [125.75 122.75 131.75]]\n",
      "\n",
      "  [[166.5  164.5  175.5 ]\n",
      "   [165.25 163.25 174.25]\n",
      "   [164.   162.   173.  ]\n",
      "   ...\n",
      "   [120.5  117.5  126.5 ]\n",
      "   [136.75 133.75 142.75]\n",
      "   [115.25 112.25 121.25]]]], shape=(32, 128, 128, 3), dtype=float32) (32, 128, 128, 3)\n",
      "tf.Tensor(\n",
      "[[0. 0. 0. ... 0. 0. 0.]\n",
      " [0. 0. 1. ... 0. 0. 0.]\n",
      " [0. 0. 0. ... 0. 0. 0.]\n",
      " ...\n",
      " [0. 0. 0. ... 0. 0. 0.]\n",
      " [0. 1. 0. ... 0. 0. 0.]\n",
      " [0. 0. 0. ... 0. 0. 0.]], shape=(32, 38), dtype=float32) (32, 38)\n"
     ]
    }
   ],
   "source": [
    "for x,y in training_set:\n",
    "    print(x,x.shape)\n",
    "    print(y,y.shape)\n",
    "    break"
   ]
  },
  {
   "cell_type": "code",
   "execution_count": 6,
   "id": "15c6515b-6891-4200-935b-3ba6091eba2c",
   "metadata": {},
   "outputs": [],
   "source": [
    "from tensorflow.keras.layers import Dense,Conv2D,MaxPool2D,Flatten,Dropout\n",
    "from tensorflow.keras.models import Sequential"
   ]
  },
  {
   "cell_type": "code",
   "execution_count": 7,
   "id": "cbf5c796-e366-4b65-a28e-464a82a5612a",
   "metadata": {},
   "outputs": [],
   "source": [
    "model =  Sequential()"
   ]
  },
  {
   "cell_type": "code",
   "execution_count": 8,
   "id": "194fdb3a-d006-4de3-9210-b505a0726cc2",
   "metadata": {},
   "outputs": [],
   "source": [
    "## Building convulational layer"
   ]
  },
  {
   "cell_type": "code",
   "execution_count": 9,
   "id": "d45d9bab-9773-4278-ad0d-c8c67175eff7",
   "metadata": {},
   "outputs": [
    {
     "name": "stderr",
     "output_type": "stream",
     "text": [
      "C:\\Users\\admin\\AppData\\Roaming\\Python\\Python311\\site-packages\\keras\\src\\layers\\convolutional\\base_conv.py:99: UserWarning: Do not pass an `input_shape`/`input_dim` argument to a layer. When using Sequential models, prefer using an `Input(shape)` object as the first layer in the model instead.\n",
      "  super().__init__(\n"
     ]
    }
   ],
   "source": [
    "model.add(Conv2D(filters=32, kernel_size=3,padding = 'same',activation= 'relu' , input_shape= [128,128,3]))\n",
    "model.add(Conv2D(filters=32, kernel_size=3,activation= 'relu'))\n",
    "model.add(MaxPool2D(pool_size=2, strides=2))"
   ]
  },
  {
   "cell_type": "code",
   "execution_count": 10,
   "id": "7f2963f0-838c-4b9c-a75c-e562d67fb7e1",
   "metadata": {},
   "outputs": [],
   "source": [
    "model.add(Conv2D(filters=64, kernel_size=3,padding = 'same',activation= 'relu'))\n",
    "model.add(Conv2D(filters=64, kernel_size=3,activation= 'relu'))\n",
    "model.add(MaxPool2D(pool_size=2, strides=2))"
   ]
  },
  {
   "cell_type": "code",
   "execution_count": 11,
   "id": "d82d4fe2-1500-48c0-947c-783dc6032172",
   "metadata": {},
   "outputs": [],
   "source": [
    "model.add(Conv2D(filters=128, kernel_size=3,padding = 'same',activation= 'relu' ))\n",
    "model.add(Conv2D(filters=128, kernel_size=3,activation= 'relu'))\n",
    "model.add(MaxPool2D(pool_size=2, strides=2))"
   ]
  },
  {
   "cell_type": "code",
   "execution_count": 12,
   "id": "1069906e-f32e-43bd-8d95-8768568d760a",
   "metadata": {},
   "outputs": [],
   "source": [
    "model.add(Conv2D(filters=256, kernel_size=3,padding = 'same',activation= 'relu' ))\n",
    "model.add(Conv2D(filters=256, kernel_size=3,activation= 'relu'))\n",
    "model.add(MaxPool2D(pool_size=2, strides=2))"
   ]
  },
  {
   "cell_type": "code",
   "execution_count": 13,
   "id": "0736be36-d7a9-4d69-b163-428838c63d86",
   "metadata": {},
   "outputs": [],
   "source": [
    "model.add(Conv2D(filters=512, kernel_size=3,padding = 'same',activation= 'relu' ))\n",
    "model.add(Conv2D(filters=512, kernel_size=3,activation= 'relu'))\n",
    "model.add(MaxPool2D(pool_size=2, strides=2))"
   ]
  },
  {
   "cell_type": "code",
   "execution_count": 14,
   "id": "3488b3ad-9a99-4da2-a517-7fb5a5abc1d2",
   "metadata": {},
   "outputs": [],
   "source": [
    "model.add(Dropout(0.25))"
   ]
  },
  {
   "cell_type": "code",
   "execution_count": 15,
   "id": "f31bfc47-2b1a-4384-b76f-650fdf861a52",
   "metadata": {},
   "outputs": [],
   "source": [
    "model.add(Flatten())"
   ]
  },
  {
   "cell_type": "code",
   "execution_count": 16,
   "id": "39df520c-7b40-4cd6-8614-600df01978e5",
   "metadata": {},
   "outputs": [],
   "source": [
    "model.add(Dense(units=1500,activation= 'relu'))"
   ]
  },
  {
   "cell_type": "code",
   "execution_count": 17,
   "id": "6ecb99af-1d0b-4a29-aa1a-ef84c47e2041",
   "metadata": {},
   "outputs": [],
   "source": [
    "model.add(Dropout(0.4))"
   ]
  },
  {
   "cell_type": "code",
   "execution_count": 18,
   "id": "109f2226-83f8-4194-9582-5e2c43245a1a",
   "metadata": {},
   "outputs": [],
   "source": [
    "\n",
    "model.add(Dense(units=38,activation='softmax'))"
   ]
  },
  {
   "cell_type": "code",
   "execution_count": 19,
   "id": "f68797a0-29a6-47b4-92da-5e2635ef627e",
   "metadata": {},
   "outputs": [],
   "source": [
    "model.compile(optimizer=tf.keras.optimizers.Adam(\n",
    "    learning_rate=0.0001),loss='categorical_crossentropy',metrics=['accuracy'])"
   ]
  },
  {
   "cell_type": "code",
   "execution_count": 20,
   "id": "1389630a-21f6-4777-a8ad-1d60aab1f385",
   "metadata": {},
   "outputs": [
    {
     "data": {
      "text/html": [
       "<pre style=\"white-space:pre;overflow-x:auto;line-height:normal;font-family:Menlo,'DejaVu Sans Mono',consolas,'Courier New',monospace\"><span style=\"font-weight: bold\">Model: \"sequential\"</span>\n",
       "</pre>\n"
      ],
      "text/plain": [
       "\u001b[1mModel: \"sequential\"\u001b[0m\n"
      ]
     },
     "metadata": {},
     "output_type": "display_data"
    },
    {
     "data": {
      "text/html": [
       "<pre style=\"white-space:pre;overflow-x:auto;line-height:normal;font-family:Menlo,'DejaVu Sans Mono',consolas,'Courier New',monospace\">┏━━━━━━━━━━━━━━━━━━━━━━━━━━━━━━━━━┳━━━━━━━━━━━━━━━━━━━━━━━━┳━━━━━━━━━━━━━━━┓\n",
       "┃<span style=\"font-weight: bold\"> Layer (type)                    </span>┃<span style=\"font-weight: bold\"> Output Shape           </span>┃<span style=\"font-weight: bold\">       Param # </span>┃\n",
       "┡━━━━━━━━━━━━━━━━━━━━━━━━━━━━━━━━━╇━━━━━━━━━━━━━━━━━━━━━━━━╇━━━━━━━━━━━━━━━┩\n",
       "│ conv2d (<span style=\"color: #0087ff; text-decoration-color: #0087ff\">Conv2D</span>)                 │ (<span style=\"color: #00d7ff; text-decoration-color: #00d7ff\">None</span>, <span style=\"color: #00af00; text-decoration-color: #00af00\">128</span>, <span style=\"color: #00af00; text-decoration-color: #00af00\">128</span>, <span style=\"color: #00af00; text-decoration-color: #00af00\">32</span>)   │           <span style=\"color: #00af00; text-decoration-color: #00af00\">896</span> │\n",
       "├─────────────────────────────────┼────────────────────────┼───────────────┤\n",
       "│ conv2d_1 (<span style=\"color: #0087ff; text-decoration-color: #0087ff\">Conv2D</span>)               │ (<span style=\"color: #00d7ff; text-decoration-color: #00d7ff\">None</span>, <span style=\"color: #00af00; text-decoration-color: #00af00\">126</span>, <span style=\"color: #00af00; text-decoration-color: #00af00\">126</span>, <span style=\"color: #00af00; text-decoration-color: #00af00\">32</span>)   │         <span style=\"color: #00af00; text-decoration-color: #00af00\">9,248</span> │\n",
       "├─────────────────────────────────┼────────────────────────┼───────────────┤\n",
       "│ max_pooling2d (<span style=\"color: #0087ff; text-decoration-color: #0087ff\">MaxPooling2D</span>)    │ (<span style=\"color: #00d7ff; text-decoration-color: #00d7ff\">None</span>, <span style=\"color: #00af00; text-decoration-color: #00af00\">63</span>, <span style=\"color: #00af00; text-decoration-color: #00af00\">63</span>, <span style=\"color: #00af00; text-decoration-color: #00af00\">32</span>)     │             <span style=\"color: #00af00; text-decoration-color: #00af00\">0</span> │\n",
       "├─────────────────────────────────┼────────────────────────┼───────────────┤\n",
       "│ conv2d_2 (<span style=\"color: #0087ff; text-decoration-color: #0087ff\">Conv2D</span>)               │ (<span style=\"color: #00d7ff; text-decoration-color: #00d7ff\">None</span>, <span style=\"color: #00af00; text-decoration-color: #00af00\">63</span>, <span style=\"color: #00af00; text-decoration-color: #00af00\">63</span>, <span style=\"color: #00af00; text-decoration-color: #00af00\">64</span>)     │        <span style=\"color: #00af00; text-decoration-color: #00af00\">18,496</span> │\n",
       "├─────────────────────────────────┼────────────────────────┼───────────────┤\n",
       "│ conv2d_3 (<span style=\"color: #0087ff; text-decoration-color: #0087ff\">Conv2D</span>)               │ (<span style=\"color: #00d7ff; text-decoration-color: #00d7ff\">None</span>, <span style=\"color: #00af00; text-decoration-color: #00af00\">61</span>, <span style=\"color: #00af00; text-decoration-color: #00af00\">61</span>, <span style=\"color: #00af00; text-decoration-color: #00af00\">64</span>)     │        <span style=\"color: #00af00; text-decoration-color: #00af00\">36,928</span> │\n",
       "├─────────────────────────────────┼────────────────────────┼───────────────┤\n",
       "│ max_pooling2d_1 (<span style=\"color: #0087ff; text-decoration-color: #0087ff\">MaxPooling2D</span>)  │ (<span style=\"color: #00d7ff; text-decoration-color: #00d7ff\">None</span>, <span style=\"color: #00af00; text-decoration-color: #00af00\">30</span>, <span style=\"color: #00af00; text-decoration-color: #00af00\">30</span>, <span style=\"color: #00af00; text-decoration-color: #00af00\">64</span>)     │             <span style=\"color: #00af00; text-decoration-color: #00af00\">0</span> │\n",
       "├─────────────────────────────────┼────────────────────────┼───────────────┤\n",
       "│ conv2d_4 (<span style=\"color: #0087ff; text-decoration-color: #0087ff\">Conv2D</span>)               │ (<span style=\"color: #00d7ff; text-decoration-color: #00d7ff\">None</span>, <span style=\"color: #00af00; text-decoration-color: #00af00\">30</span>, <span style=\"color: #00af00; text-decoration-color: #00af00\">30</span>, <span style=\"color: #00af00; text-decoration-color: #00af00\">128</span>)    │        <span style=\"color: #00af00; text-decoration-color: #00af00\">73,856</span> │\n",
       "├─────────────────────────────────┼────────────────────────┼───────────────┤\n",
       "│ conv2d_5 (<span style=\"color: #0087ff; text-decoration-color: #0087ff\">Conv2D</span>)               │ (<span style=\"color: #00d7ff; text-decoration-color: #00d7ff\">None</span>, <span style=\"color: #00af00; text-decoration-color: #00af00\">28</span>, <span style=\"color: #00af00; text-decoration-color: #00af00\">28</span>, <span style=\"color: #00af00; text-decoration-color: #00af00\">128</span>)    │       <span style=\"color: #00af00; text-decoration-color: #00af00\">147,584</span> │\n",
       "├─────────────────────────────────┼────────────────────────┼───────────────┤\n",
       "│ max_pooling2d_2 (<span style=\"color: #0087ff; text-decoration-color: #0087ff\">MaxPooling2D</span>)  │ (<span style=\"color: #00d7ff; text-decoration-color: #00d7ff\">None</span>, <span style=\"color: #00af00; text-decoration-color: #00af00\">14</span>, <span style=\"color: #00af00; text-decoration-color: #00af00\">14</span>, <span style=\"color: #00af00; text-decoration-color: #00af00\">128</span>)    │             <span style=\"color: #00af00; text-decoration-color: #00af00\">0</span> │\n",
       "├─────────────────────────────────┼────────────────────────┼───────────────┤\n",
       "│ conv2d_6 (<span style=\"color: #0087ff; text-decoration-color: #0087ff\">Conv2D</span>)               │ (<span style=\"color: #00d7ff; text-decoration-color: #00d7ff\">None</span>, <span style=\"color: #00af00; text-decoration-color: #00af00\">14</span>, <span style=\"color: #00af00; text-decoration-color: #00af00\">14</span>, <span style=\"color: #00af00; text-decoration-color: #00af00\">256</span>)    │       <span style=\"color: #00af00; text-decoration-color: #00af00\">295,168</span> │\n",
       "├─────────────────────────────────┼────────────────────────┼───────────────┤\n",
       "│ conv2d_7 (<span style=\"color: #0087ff; text-decoration-color: #0087ff\">Conv2D</span>)               │ (<span style=\"color: #00d7ff; text-decoration-color: #00d7ff\">None</span>, <span style=\"color: #00af00; text-decoration-color: #00af00\">12</span>, <span style=\"color: #00af00; text-decoration-color: #00af00\">12</span>, <span style=\"color: #00af00; text-decoration-color: #00af00\">256</span>)    │       <span style=\"color: #00af00; text-decoration-color: #00af00\">590,080</span> │\n",
       "├─────────────────────────────────┼────────────────────────┼───────────────┤\n",
       "│ max_pooling2d_3 (<span style=\"color: #0087ff; text-decoration-color: #0087ff\">MaxPooling2D</span>)  │ (<span style=\"color: #00d7ff; text-decoration-color: #00d7ff\">None</span>, <span style=\"color: #00af00; text-decoration-color: #00af00\">6</span>, <span style=\"color: #00af00; text-decoration-color: #00af00\">6</span>, <span style=\"color: #00af00; text-decoration-color: #00af00\">256</span>)      │             <span style=\"color: #00af00; text-decoration-color: #00af00\">0</span> │\n",
       "├─────────────────────────────────┼────────────────────────┼───────────────┤\n",
       "│ conv2d_8 (<span style=\"color: #0087ff; text-decoration-color: #0087ff\">Conv2D</span>)               │ (<span style=\"color: #00d7ff; text-decoration-color: #00d7ff\">None</span>, <span style=\"color: #00af00; text-decoration-color: #00af00\">6</span>, <span style=\"color: #00af00; text-decoration-color: #00af00\">6</span>, <span style=\"color: #00af00; text-decoration-color: #00af00\">512</span>)      │     <span style=\"color: #00af00; text-decoration-color: #00af00\">1,180,160</span> │\n",
       "├─────────────────────────────────┼────────────────────────┼───────────────┤\n",
       "│ conv2d_9 (<span style=\"color: #0087ff; text-decoration-color: #0087ff\">Conv2D</span>)               │ (<span style=\"color: #00d7ff; text-decoration-color: #00d7ff\">None</span>, <span style=\"color: #00af00; text-decoration-color: #00af00\">4</span>, <span style=\"color: #00af00; text-decoration-color: #00af00\">4</span>, <span style=\"color: #00af00; text-decoration-color: #00af00\">512</span>)      │     <span style=\"color: #00af00; text-decoration-color: #00af00\">2,359,808</span> │\n",
       "├─────────────────────────────────┼────────────────────────┼───────────────┤\n",
       "│ max_pooling2d_4 (<span style=\"color: #0087ff; text-decoration-color: #0087ff\">MaxPooling2D</span>)  │ (<span style=\"color: #00d7ff; text-decoration-color: #00d7ff\">None</span>, <span style=\"color: #00af00; text-decoration-color: #00af00\">2</span>, <span style=\"color: #00af00; text-decoration-color: #00af00\">2</span>, <span style=\"color: #00af00; text-decoration-color: #00af00\">512</span>)      │             <span style=\"color: #00af00; text-decoration-color: #00af00\">0</span> │\n",
       "├─────────────────────────────────┼────────────────────────┼───────────────┤\n",
       "│ dropout (<span style=\"color: #0087ff; text-decoration-color: #0087ff\">Dropout</span>)               │ (<span style=\"color: #00d7ff; text-decoration-color: #00d7ff\">None</span>, <span style=\"color: #00af00; text-decoration-color: #00af00\">2</span>, <span style=\"color: #00af00; text-decoration-color: #00af00\">2</span>, <span style=\"color: #00af00; text-decoration-color: #00af00\">512</span>)      │             <span style=\"color: #00af00; text-decoration-color: #00af00\">0</span> │\n",
       "├─────────────────────────────────┼────────────────────────┼───────────────┤\n",
       "│ flatten (<span style=\"color: #0087ff; text-decoration-color: #0087ff\">Flatten</span>)               │ (<span style=\"color: #00d7ff; text-decoration-color: #00d7ff\">None</span>, <span style=\"color: #00af00; text-decoration-color: #00af00\">2048</span>)           │             <span style=\"color: #00af00; text-decoration-color: #00af00\">0</span> │\n",
       "├─────────────────────────────────┼────────────────────────┼───────────────┤\n",
       "│ dense (<span style=\"color: #0087ff; text-decoration-color: #0087ff\">Dense</span>)                   │ (<span style=\"color: #00d7ff; text-decoration-color: #00d7ff\">None</span>, <span style=\"color: #00af00; text-decoration-color: #00af00\">1500</span>)           │     <span style=\"color: #00af00; text-decoration-color: #00af00\">3,073,500</span> │\n",
       "├─────────────────────────────────┼────────────────────────┼───────────────┤\n",
       "│ dropout_1 (<span style=\"color: #0087ff; text-decoration-color: #0087ff\">Dropout</span>)             │ (<span style=\"color: #00d7ff; text-decoration-color: #00d7ff\">None</span>, <span style=\"color: #00af00; text-decoration-color: #00af00\">1500</span>)           │             <span style=\"color: #00af00; text-decoration-color: #00af00\">0</span> │\n",
       "├─────────────────────────────────┼────────────────────────┼───────────────┤\n",
       "│ dense_1 (<span style=\"color: #0087ff; text-decoration-color: #0087ff\">Dense</span>)                 │ (<span style=\"color: #00d7ff; text-decoration-color: #00d7ff\">None</span>, <span style=\"color: #00af00; text-decoration-color: #00af00\">38</span>)             │        <span style=\"color: #00af00; text-decoration-color: #00af00\">57,038</span> │\n",
       "└─────────────────────────────────┴────────────────────────┴───────────────┘\n",
       "</pre>\n"
      ],
      "text/plain": [
       "┏━━━━━━━━━━━━━━━━━━━━━━━━━━━━━━━━━┳━━━━━━━━━━━━━━━━━━━━━━━━┳━━━━━━━━━━━━━━━┓\n",
       "┃\u001b[1m \u001b[0m\u001b[1mLayer (type)                   \u001b[0m\u001b[1m \u001b[0m┃\u001b[1m \u001b[0m\u001b[1mOutput Shape          \u001b[0m\u001b[1m \u001b[0m┃\u001b[1m \u001b[0m\u001b[1m      Param #\u001b[0m\u001b[1m \u001b[0m┃\n",
       "┡━━━━━━━━━━━━━━━━━━━━━━━━━━━━━━━━━╇━━━━━━━━━━━━━━━━━━━━━━━━╇━━━━━━━━━━━━━━━┩\n",
       "│ conv2d (\u001b[38;5;33mConv2D\u001b[0m)                 │ (\u001b[38;5;45mNone\u001b[0m, \u001b[38;5;34m128\u001b[0m, \u001b[38;5;34m128\u001b[0m, \u001b[38;5;34m32\u001b[0m)   │           \u001b[38;5;34m896\u001b[0m │\n",
       "├─────────────────────────────────┼────────────────────────┼───────────────┤\n",
       "│ conv2d_1 (\u001b[38;5;33mConv2D\u001b[0m)               │ (\u001b[38;5;45mNone\u001b[0m, \u001b[38;5;34m126\u001b[0m, \u001b[38;5;34m126\u001b[0m, \u001b[38;5;34m32\u001b[0m)   │         \u001b[38;5;34m9,248\u001b[0m │\n",
       "├─────────────────────────────────┼────────────────────────┼───────────────┤\n",
       "│ max_pooling2d (\u001b[38;5;33mMaxPooling2D\u001b[0m)    │ (\u001b[38;5;45mNone\u001b[0m, \u001b[38;5;34m63\u001b[0m, \u001b[38;5;34m63\u001b[0m, \u001b[38;5;34m32\u001b[0m)     │             \u001b[38;5;34m0\u001b[0m │\n",
       "├─────────────────────────────────┼────────────────────────┼───────────────┤\n",
       "│ conv2d_2 (\u001b[38;5;33mConv2D\u001b[0m)               │ (\u001b[38;5;45mNone\u001b[0m, \u001b[38;5;34m63\u001b[0m, \u001b[38;5;34m63\u001b[0m, \u001b[38;5;34m64\u001b[0m)     │        \u001b[38;5;34m18,496\u001b[0m │\n",
       "├─────────────────────────────────┼────────────────────────┼───────────────┤\n",
       "│ conv2d_3 (\u001b[38;5;33mConv2D\u001b[0m)               │ (\u001b[38;5;45mNone\u001b[0m, \u001b[38;5;34m61\u001b[0m, \u001b[38;5;34m61\u001b[0m, \u001b[38;5;34m64\u001b[0m)     │        \u001b[38;5;34m36,928\u001b[0m │\n",
       "├─────────────────────────────────┼────────────────────────┼───────────────┤\n",
       "│ max_pooling2d_1 (\u001b[38;5;33mMaxPooling2D\u001b[0m)  │ (\u001b[38;5;45mNone\u001b[0m, \u001b[38;5;34m30\u001b[0m, \u001b[38;5;34m30\u001b[0m, \u001b[38;5;34m64\u001b[0m)     │             \u001b[38;5;34m0\u001b[0m │\n",
       "├─────────────────────────────────┼────────────────────────┼───────────────┤\n",
       "│ conv2d_4 (\u001b[38;5;33mConv2D\u001b[0m)               │ (\u001b[38;5;45mNone\u001b[0m, \u001b[38;5;34m30\u001b[0m, \u001b[38;5;34m30\u001b[0m, \u001b[38;5;34m128\u001b[0m)    │        \u001b[38;5;34m73,856\u001b[0m │\n",
       "├─────────────────────────────────┼────────────────────────┼───────────────┤\n",
       "│ conv2d_5 (\u001b[38;5;33mConv2D\u001b[0m)               │ (\u001b[38;5;45mNone\u001b[0m, \u001b[38;5;34m28\u001b[0m, \u001b[38;5;34m28\u001b[0m, \u001b[38;5;34m128\u001b[0m)    │       \u001b[38;5;34m147,584\u001b[0m │\n",
       "├─────────────────────────────────┼────────────────────────┼───────────────┤\n",
       "│ max_pooling2d_2 (\u001b[38;5;33mMaxPooling2D\u001b[0m)  │ (\u001b[38;5;45mNone\u001b[0m, \u001b[38;5;34m14\u001b[0m, \u001b[38;5;34m14\u001b[0m, \u001b[38;5;34m128\u001b[0m)    │             \u001b[38;5;34m0\u001b[0m │\n",
       "├─────────────────────────────────┼────────────────────────┼───────────────┤\n",
       "│ conv2d_6 (\u001b[38;5;33mConv2D\u001b[0m)               │ (\u001b[38;5;45mNone\u001b[0m, \u001b[38;5;34m14\u001b[0m, \u001b[38;5;34m14\u001b[0m, \u001b[38;5;34m256\u001b[0m)    │       \u001b[38;5;34m295,168\u001b[0m │\n",
       "├─────────────────────────────────┼────────────────────────┼───────────────┤\n",
       "│ conv2d_7 (\u001b[38;5;33mConv2D\u001b[0m)               │ (\u001b[38;5;45mNone\u001b[0m, \u001b[38;5;34m12\u001b[0m, \u001b[38;5;34m12\u001b[0m, \u001b[38;5;34m256\u001b[0m)    │       \u001b[38;5;34m590,080\u001b[0m │\n",
       "├─────────────────────────────────┼────────────────────────┼───────────────┤\n",
       "│ max_pooling2d_3 (\u001b[38;5;33mMaxPooling2D\u001b[0m)  │ (\u001b[38;5;45mNone\u001b[0m, \u001b[38;5;34m6\u001b[0m, \u001b[38;5;34m6\u001b[0m, \u001b[38;5;34m256\u001b[0m)      │             \u001b[38;5;34m0\u001b[0m │\n",
       "├─────────────────────────────────┼────────────────────────┼───────────────┤\n",
       "│ conv2d_8 (\u001b[38;5;33mConv2D\u001b[0m)               │ (\u001b[38;5;45mNone\u001b[0m, \u001b[38;5;34m6\u001b[0m, \u001b[38;5;34m6\u001b[0m, \u001b[38;5;34m512\u001b[0m)      │     \u001b[38;5;34m1,180,160\u001b[0m │\n",
       "├─────────────────────────────────┼────────────────────────┼───────────────┤\n",
       "│ conv2d_9 (\u001b[38;5;33mConv2D\u001b[0m)               │ (\u001b[38;5;45mNone\u001b[0m, \u001b[38;5;34m4\u001b[0m, \u001b[38;5;34m4\u001b[0m, \u001b[38;5;34m512\u001b[0m)      │     \u001b[38;5;34m2,359,808\u001b[0m │\n",
       "├─────────────────────────────────┼────────────────────────┼───────────────┤\n",
       "│ max_pooling2d_4 (\u001b[38;5;33mMaxPooling2D\u001b[0m)  │ (\u001b[38;5;45mNone\u001b[0m, \u001b[38;5;34m2\u001b[0m, \u001b[38;5;34m2\u001b[0m, \u001b[38;5;34m512\u001b[0m)      │             \u001b[38;5;34m0\u001b[0m │\n",
       "├─────────────────────────────────┼────────────────────────┼───────────────┤\n",
       "│ dropout (\u001b[38;5;33mDropout\u001b[0m)               │ (\u001b[38;5;45mNone\u001b[0m, \u001b[38;5;34m2\u001b[0m, \u001b[38;5;34m2\u001b[0m, \u001b[38;5;34m512\u001b[0m)      │             \u001b[38;5;34m0\u001b[0m │\n",
       "├─────────────────────────────────┼────────────────────────┼───────────────┤\n",
       "│ flatten (\u001b[38;5;33mFlatten\u001b[0m)               │ (\u001b[38;5;45mNone\u001b[0m, \u001b[38;5;34m2048\u001b[0m)           │             \u001b[38;5;34m0\u001b[0m │\n",
       "├─────────────────────────────────┼────────────────────────┼───────────────┤\n",
       "│ dense (\u001b[38;5;33mDense\u001b[0m)                   │ (\u001b[38;5;45mNone\u001b[0m, \u001b[38;5;34m1500\u001b[0m)           │     \u001b[38;5;34m3,073,500\u001b[0m │\n",
       "├─────────────────────────────────┼────────────────────────┼───────────────┤\n",
       "│ dropout_1 (\u001b[38;5;33mDropout\u001b[0m)             │ (\u001b[38;5;45mNone\u001b[0m, \u001b[38;5;34m1500\u001b[0m)           │             \u001b[38;5;34m0\u001b[0m │\n",
       "├─────────────────────────────────┼────────────────────────┼───────────────┤\n",
       "│ dense_1 (\u001b[38;5;33mDense\u001b[0m)                 │ (\u001b[38;5;45mNone\u001b[0m, \u001b[38;5;34m38\u001b[0m)             │        \u001b[38;5;34m57,038\u001b[0m │\n",
       "└─────────────────────────────────┴────────────────────────┴───────────────┘\n"
      ]
     },
     "metadata": {},
     "output_type": "display_data"
    },
    {
     "data": {
      "text/html": [
       "<pre style=\"white-space:pre;overflow-x:auto;line-height:normal;font-family:Menlo,'DejaVu Sans Mono',consolas,'Courier New',monospace\"><span style=\"font-weight: bold\"> Total params: </span><span style=\"color: #00af00; text-decoration-color: #00af00\">7,842,762</span> (29.92 MB)\n",
       "</pre>\n"
      ],
      "text/plain": [
       "\u001b[1m Total params: \u001b[0m\u001b[38;5;34m7,842,762\u001b[0m (29.92 MB)\n"
      ]
     },
     "metadata": {},
     "output_type": "display_data"
    },
    {
     "data": {
      "text/html": [
       "<pre style=\"white-space:pre;overflow-x:auto;line-height:normal;font-family:Menlo,'DejaVu Sans Mono',consolas,'Courier New',monospace\"><span style=\"font-weight: bold\"> Trainable params: </span><span style=\"color: #00af00; text-decoration-color: #00af00\">7,842,762</span> (29.92 MB)\n",
       "</pre>\n"
      ],
      "text/plain": [
       "\u001b[1m Trainable params: \u001b[0m\u001b[38;5;34m7,842,762\u001b[0m (29.92 MB)\n"
      ]
     },
     "metadata": {},
     "output_type": "display_data"
    },
    {
     "data": {
      "text/html": [
       "<pre style=\"white-space:pre;overflow-x:auto;line-height:normal;font-family:Menlo,'DejaVu Sans Mono',consolas,'Courier New',monospace\"><span style=\"font-weight: bold\"> Non-trainable params: </span><span style=\"color: #00af00; text-decoration-color: #00af00\">0</span> (0.00 B)\n",
       "</pre>\n"
      ],
      "text/plain": [
       "\u001b[1m Non-trainable params: \u001b[0m\u001b[38;5;34m0\u001b[0m (0.00 B)\n"
      ]
     },
     "metadata": {},
     "output_type": "display_data"
    }
   ],
   "source": [
    "model.summary()"
   ]
  },
  {
   "cell_type": "code",
   "execution_count": 21,
   "id": "35c70ca4-51aa-4eaf-9960-8d10fe261b49",
   "metadata": {},
   "outputs": [
    {
     "name": "stdout",
     "output_type": "stream",
     "text": [
      "Epoch 1/3\n",
      "\u001b[1m2197/2197\u001b[0m \u001b[32m━━━━━━━━━━━━━━━━━━━━\u001b[0m\u001b[37m\u001b[0m \u001b[1m4464s\u001b[0m 2s/step - accuracy: 0.4065 - loss: 2.0969 - val_accuracy: 0.8462 - val_loss: 0.4966\n",
      "Epoch 2/3\n",
      "\u001b[1m2197/2197\u001b[0m \u001b[32m━━━━━━━━━━━━━━━━━━━━\u001b[0m\u001b[37m\u001b[0m \u001b[1m3966s\u001b[0m 2s/step - accuracy: 0.8400 - loss: 0.5126 - val_accuracy: 0.9071 - val_loss: 0.2963\n",
      "Epoch 3/3\n",
      "\u001b[1m2197/2197\u001b[0m \u001b[32m━━━━━━━━━━━━━━━━━━━━\u001b[0m\u001b[37m\u001b[0m \u001b[1m3904s\u001b[0m 2s/step - accuracy: 0.9069 - loss: 0.2917 - val_accuracy: 0.9327 - val_loss: 0.2077\n"
     ]
    }
   ],
   "source": [
    "training_history=model.fit(x=training_set,validation_data=validation_set, epochs=3)"
   ]
  },
  {
   "cell_type": "code",
   "execution_count": 23,
   "id": "3d798138-290b-470f-b814-053b5c2c4703",
   "metadata": {},
   "outputs": [
    {
     "name": "stdout",
     "output_type": "stream",
     "text": [
      "\u001b[1m2197/2197\u001b[0m \u001b[32m━━━━━━━━━━━━━━━━━━━━\u001b[0m\u001b[37m\u001b[0m \u001b[1m949s\u001b[0m 432ms/step - accuracy: 0.9501 - loss: 0.1540\n"
     ]
    }
   ],
   "source": [
    "train_loss,train_acc= model.evaluate(training_set)"
   ]
  },
  {
   "cell_type": "code",
   "execution_count": 24,
   "id": "94ae14be-2410-4452-8627-3b8a91e24adc",
   "metadata": {},
   "outputs": [
    {
     "name": "stdout",
     "output_type": "stream",
     "text": [
      "0.1398647278547287 0.9548189640045166\n"
     ]
    }
   ],
   "source": [
    "print(train_loss,train_acc)"
   ]
  },
  {
   "cell_type": "code",
   "execution_count": 25,
   "id": "60b68f0e-8cc4-4b8f-84b9-533631e687ba",
   "metadata": {},
   "outputs": [
    {
     "name": "stdout",
     "output_type": "stream",
     "text": [
      "\u001b[1m550/550\u001b[0m \u001b[32m━━━━━━━━━━━━━━━━━━━━\u001b[0m\u001b[37m\u001b[0m \u001b[1m234s\u001b[0m 425ms/step - accuracy: 0.9357 - loss: 0.2044\n"
     ]
    }
   ],
   "source": [
    "val_loss,val_acc= model.evaluate(validation_set)"
   ]
  },
  {
   "cell_type": "code",
   "execution_count": 26,
   "id": "5e70d33c-5d27-40c5-bd32-14dbd727fe7e",
   "metadata": {},
   "outputs": [
    {
     "name": "stdout",
     "output_type": "stream",
     "text": [
      "0.2074088156223297 0.9326769709587097\n"
     ]
    }
   ],
   "source": [
    "print(val_loss,val_acc)"
   ]
  },
  {
   "cell_type": "code",
   "execution_count": null,
   "id": "60fc5a69-50e7-4b50-93d7-9b9cd54515cf",
   "metadata": {},
   "outputs": [],
   "source": [
    "## saving model"
   ]
  },
  {
   "cell_type": "code",
   "execution_count": 32,
   "id": "7dc2af5d-45f9-4102-9366-f72db28ce094",
   "metadata": {},
   "outputs": [],
   "source": [
    "model.save(\"trained_model.keras\")"
   ]
  },
  {
   "cell_type": "code",
   "execution_count": 33,
   "id": "899b766d-48f1-4931-9aa5-0478d4285efe",
   "metadata": {},
   "outputs": [
    {
     "data": {
      "text/plain": [
       "{'accuracy': [0.6071413159370422, 0.8597339987754822, 0.9153425097465515],\n",
       " 'loss': [1.3266456127166748, 0.4425443708896637, 0.26338058710098267],\n",
       " 'val_accuracy': [0.8462326526641846, 0.9071249961853027, 0.9326769709587097],\n",
       " 'val_loss': [0.49662065505981445, 0.2963328957557678, 0.2077028602361679]}"
      ]
     },
     "execution_count": 33,
     "metadata": {},
     "output_type": "execute_result"
    }
   ],
   "source": [
    "training_history.history"
   ]
  },
  {
   "cell_type": "code",
   "execution_count": 34,
   "id": "875e96dd-7245-459c-8fac-b1f4709a301b",
   "metadata": {},
   "outputs": [],
   "source": [
    "##Recording history\n",
    "import json\n",
    "with open(\"training_hist.json\",\"w\") as f:\n",
    "    json.dump(training_history.history,f)"
   ]
  },
  {
   "cell_type": "markdown",
   "id": "c086f6b6-d7bb-4ee0-bc66-631c737c276d",
   "metadata": {},
   "source": [
    "## Accuracy Visulization"
   ]
  },
  {
   "cell_type": "code",
   "execution_count": 43,
   "id": "58ca5903-7049-4064-b4d6-78c960e2d3dc",
   "metadata": {},
   "outputs": [
    {
     "data": {
      "image/png": "[encoded data removed]",
      "text/plain": [
       "<Figure size 640x480 with 1 Axes>"
      ]
     },
     "metadata": {},
     "output_type": "display_data"
    }
   ],
   "source": [
    "epochs = [i for i in range(1,4)]\n",
    "plt.plot(epochs,training_history.history['accuracy'],color='red',label='Training_Accuracy')\n",
    "plt.plot(epochs,training_history.history['val_accuracy'],color='blue',label='Validation_Accuracy')\n",
    "plt.xlabel(\"No.of Epochs\")\n",
    "plt.ylabel(\"Accuracy Result\")\n",
    "plt.title(\"Visualization of Accuracy Result\")\n",
    "plt.legend()\n",
    "plt.show()"
   ]
  },
  {
   "cell_type": "markdown",
   "id": "08a8f0ea-4459-476d-98b5-5f48313d48c1",
   "metadata": {},
   "source": [
    "## some other metrices for model Evaluation"
   ]
  },
  {
   "cell_type": "code",
   "execution_count": 44,
   "id": "49153f17-b9c7-457d-842d-610029b1ecfe",
   "metadata": {},
   "outputs": [
    {
     "data": {
      "text/plain": [
       "['Apple___Apple_scab',\n",
       " 'Apple___Black_rot',\n",
       " 'Apple___Cedar_apple_rust',\n",
       " 'Apple___healthy',\n",
       " 'Blueberry___healthy',\n",
       " 'Cherry_(including_sour)___Powdery_mildew',\n",
       " 'Cherry_(including_sour)___healthy',\n",
       " 'Corn_(maize)___Cercospora_leaf_spot Gray_leaf_spot',\n",
       " 'Corn_(maize)___Common_rust_',\n",
       " 'Corn_(maize)___Northern_Leaf_Blight',\n",
       " 'Corn_(maize)___healthy',\n",
       " 'Grape___Black_rot',\n",
       " 'Grape___Esca_(Black_Measles)',\n",
       " 'Grape___Leaf_blight_(Isariopsis_Leaf_Spot)',\n",
       " 'Grape___healthy',\n",
       " 'Orange___Haunglongbing_(Citrus_greening)',\n",
       " 'Peach___Bacterial_spot',\n",
       " 'Peach___healthy',\n",
       " 'Pepper,_bell___Bacterial_spot',\n",
       " 'Pepper,_bell___healthy',\n",
       " 'Potato___Early_blight',\n",
       " 'Potato___Late_blight',\n",
       " 'Potato___healthy',\n",
       " 'Raspberry___healthy',\n",
       " 'Soybean___healthy',\n",
       " 'Squash___Powdery_mildew',\n",
       " 'Strawberry___Leaf_scorch',\n",
       " 'Strawberry___healthy',\n",
       " 'Tomato___Bacterial_spot',\n",
       " 'Tomato___Early_blight',\n",
       " 'Tomato___Late_blight',\n",
       " 'Tomato___Leaf_Mold',\n",
       " 'Tomato___Septoria_leaf_spot',\n",
       " 'Tomato___Spider_mites Two-spotted_spider_mite',\n",
       " 'Tomato___Target_Spot',\n",
       " 'Tomato___Tomato_Yellow_Leaf_Curl_Virus',\n",
       " 'Tomato___Tomato_mosaic_virus',\n",
       " 'Tomato___healthy']"
      ]
     },
     "execution_count": 44,
     "metadata": {},
     "output_type": "execute_result"
    }
   ],
   "source": [
    "class_name = validation_set.class_names\n",
    "class_name"
   ]
  },
  {
   "cell_type": "code",
   "execution_count": 45,
   "id": "2d3d1b9a-d1e3-48a0-a77a-852d121c4076",
   "metadata": {},
   "outputs": [
    {
     "name": "stdout",
     "output_type": "stream",
     "text": [
      "Found 17572 files belonging to 38 classes.\n"
     ]
    }
   ],
   "source": [
    "test_set = tf.keras.utils.image_dataset_from_directory(\n",
    "    'valid',\n",
    "    labels=\"inferred\",\n",
    "    label_mode=\"categorical\",\n",
    "    class_names=None,\n",
    "    color_mode=\"rgb\",\n",
    "    batch_size=32,\n",
    "    image_size=(128, 128),\n",
    "    shuffle=False,\n",
    "    seed=None,\n",
    "    validation_split=None,\n",
    "    subset=None,\n",
    "    interpolation=\"bilinear\",\n",
    "    follow_links=False,\n",
    "    crop_to_aspect_ratio=False,\n",
    "   \n",
    ")"
   ]
  },
  {
   "cell_type": "code",
   "execution_count": 47,
   "id": "cefbdac0-9547-4bf7-8ab0-46c42658c8a9",
   "metadata": {},
   "outputs": [
    {
     "name": "stdout",
     "output_type": "stream",
     "text": [
      "\u001b[1m550/550\u001b[0m \u001b[32m━━━━━━━━━━━━━━━━━━━━\u001b[0m\u001b[37m\u001b[0m \u001b[1m302s\u001b[0m 549ms/step\n"
     ]
    },
    {
     "data": {
      "text/plain": [
       "(array([[9.9499631e-01, 4.4466193e-05, 2.7597785e-05, ..., 1.4840846e-08,\n",
       "         1.1816997e-08, 2.0281402e-07],\n",
       "        [9.9491656e-01, 1.7087249e-03, 1.3691065e-06, ..., 8.1637180e-10,\n",
       "         1.8050338e-09, 4.8859801e-09],\n",
       "        [9.9997556e-01, 8.2517090e-06, 5.6253282e-07, ..., 7.7963094e-11,\n",
       "         2.4127864e-10, 3.9050176e-09],\n",
       "        ...,\n",
       "        [1.6225002e-05, 5.4132306e-07, 4.4599728e-05, ..., 2.8454690e-06,\n",
       "         9.1088913e-07, 9.7481865e-01],\n",
       "        [6.1721821e-06, 3.4589326e-07, 7.7271172e-05, ..., 1.0967077e-05,\n",
       "         3.6436616e-06, 9.9515522e-01],\n",
       "        [9.4433098e-08, 3.3967428e-08, 3.1375683e-07, ..., 2.5161228e-07,\n",
       "         1.6957287e-05, 9.7677803e-01]], dtype=float32),\n",
       " (17572, 38))"
      ]
     },
     "execution_count": 47,
     "metadata": {},
     "output_type": "execute_result"
    }
   ],
   "source": [
    "y_pred = model.predict(test_set)\n",
    "y_pred,y_pred.shape"
   ]
  },
  {
   "cell_type": "code",
   "execution_count": 50,
   "id": "dc946e5b-7036-48b3-b3bf-4dd389402c87",
   "metadata": {},
   "outputs": [
    {
     "data": {
      "text/plain": [
       "<tf.Tensor: shape=(17572,), dtype=int64, numpy=array([ 0,  0,  0, ..., 37, 37, 37], dtype=int64)>"
      ]
     },
     "execution_count": 50,
     "metadata": {},
     "output_type": "execute_result"
    }
   ],
   "source": [
    "predicted_categories = tf.argmax(y_pred,axis=1)\n",
    "predicted_categories"
   ]
  },
  {
   "cell_type": "code",
   "execution_count": 51,
   "id": "caddf201-0fc0-4620-9dc8-06c847103163",
   "metadata": {},
   "outputs": [
    {
     "data": {
      "text/plain": [
       "<tf.Tensor: shape=(17572, 38), dtype=float32, numpy=\n",
       "array([[1., 0., 0., ..., 0., 0., 0.],\n",
       "       [1., 0., 0., ..., 0., 0., 0.],\n",
       "       [1., 0., 0., ..., 0., 0., 0.],\n",
       "       ...,\n",
       "       [0., 0., 0., ..., 0., 0., 1.],\n",
       "       [0., 0., 0., ..., 0., 0., 1.],\n",
       "       [0., 0., 0., ..., 0., 0., 1.]], dtype=float32)>"
      ]
     },
     "execution_count": 51,
     "metadata": {},
     "output_type": "execute_result"
    }
   ],
   "source": [
    "true_categories = tf.concat([y for x,y in test_set],axis=0)\n",
    "true_categories"
   ]
  },
  {
   "cell_type": "code",
   "execution_count": 52,
   "id": "218d725c-64b7-4d50-a6a7-29a8b7aed9ec",
   "metadata": {},
   "outputs": [
    {
     "data": {
      "text/plain": [
       "<tf.Tensor: shape=(17572,), dtype=int64, numpy=array([ 0,  0,  0, ..., 37, 37, 37], dtype=int64)>"
      ]
     },
     "execution_count": 52,
     "metadata": {},
     "output_type": "execute_result"
    }
   ],
   "source": [
    "Y_true = tf.argmax(true_categories,axis=1)\n",
    "Y_true"
   ]
  },
  {
   "cell_type": "code",
   "execution_count": 64,
   "id": "46175099-18ca-421d-8605-349b28227a24",
   "metadata": {},
   "outputs": [],
   "source": [
    "from sklearn.metrics import classification_report,confusion_matrix\n"
   ]
  },
  {
   "cell_type": "code",
   "execution_count": 65,
   "id": "435422ac-d6dc-431e-8c56-c0202ccfa6bf",
   "metadata": {},
   "outputs": [
    {
     "name": "stdout",
     "output_type": "stream",
     "text": [
      "                                                    precision    recall  f1-score   support\n",
      "\n",
      "                                Apple___Apple_scab       0.96      0.91      0.93       504\n",
      "                                 Apple___Black_rot       0.94      0.98      0.96       497\n",
      "                          Apple___Cedar_apple_rust       0.92      0.97      0.94       440\n",
      "                                   Apple___healthy       0.91      0.84      0.87       502\n",
      "                               Blueberry___healthy       0.92      0.96      0.94       454\n",
      "          Cherry_(including_sour)___Powdery_mildew       0.96      0.92      0.94       421\n",
      "                 Cherry_(including_sour)___healthy       0.91      0.99      0.95       456\n",
      "Corn_(maize)___Cercospora_leaf_spot Gray_leaf_spot       0.93      0.90      0.92       410\n",
      "                       Corn_(maize)___Common_rust_       0.98      0.99      0.98       477\n",
      "               Corn_(maize)___Northern_Leaf_Blight       0.93      0.96      0.94       477\n",
      "                            Corn_(maize)___healthy       0.99      0.98      0.99       465\n",
      "                                 Grape___Black_rot       0.93      0.96      0.94       472\n",
      "                      Grape___Esca_(Black_Measles)       0.99      0.93      0.96       480\n",
      "        Grape___Leaf_blight_(Isariopsis_Leaf_Spot)       0.96      1.00      0.98       430\n",
      "                                   Grape___healthy       0.97      0.99      0.98       423\n",
      "          Orange___Haunglongbing_(Citrus_greening)       0.91      1.00      0.95       503\n",
      "                            Peach___Bacterial_spot       0.94      0.88      0.91       459\n",
      "                                   Peach___healthy       0.98      0.96      0.97       432\n",
      "                     Pepper,_bell___Bacterial_spot       0.91      0.94      0.93       478\n",
      "                            Pepper,_bell___healthy       0.95      0.91      0.93       497\n",
      "                             Potato___Early_blight       0.93      0.99      0.96       485\n",
      "                              Potato___Late_blight       0.95      0.91      0.93       485\n",
      "                                  Potato___healthy       0.97      0.92      0.94       456\n",
      "                               Raspberry___healthy       0.99      0.95      0.97       445\n",
      "                                 Soybean___healthy       0.98      0.91      0.94       505\n",
      "                           Squash___Powdery_mildew       0.97      0.97      0.97       434\n",
      "                          Strawberry___Leaf_scorch       0.99      0.95      0.97       444\n",
      "                              Strawberry___healthy       0.97      1.00      0.99       456\n",
      "                           Tomato___Bacterial_spot       0.87      0.96      0.91       425\n",
      "                             Tomato___Early_blight       0.73      0.89      0.80       480\n",
      "                              Tomato___Late_blight       0.91      0.83      0.87       463\n",
      "                                Tomato___Leaf_Mold       0.94      0.91      0.93       470\n",
      "                       Tomato___Septoria_leaf_spot       0.87      0.73      0.79       436\n",
      "     Tomato___Spider_mites Two-spotted_spider_mite       0.95      0.88      0.91       435\n",
      "                              Tomato___Target_Spot       0.76      0.89      0.82       457\n",
      "            Tomato___Tomato_Yellow_Leaf_Curl_Virus       0.96      0.98      0.97       490\n",
      "                      Tomato___Tomato_mosaic_virus       0.96      0.98      0.97       448\n",
      "                                  Tomato___healthy       0.99      0.84      0.91       481\n",
      "\n",
      "                                          accuracy                           0.93     17572\n",
      "                                         macro avg       0.94      0.93      0.93     17572\n",
      "                                      weighted avg       0.94      0.93      0.93     17572\n",
      "\n"
     ]
    }
   ],
   "source": [
    "print(classification_report(Y_true, predicted_categories, target_names=class_name))\n"
   ]
  },
  {
   "cell_type": "code",
   "execution_count": 69,
   "id": "4a383a85-6270-45b3-863c-e073ab7d7037",
   "metadata": {},
   "outputs": [
    {
     "data": {
      "text/plain": [
       "array([[457,   6,   1, ...,   0,   0,   0],\n",
       "       [  0, 485,   0, ...,   0,   0,   0],\n",
       "       [  0,   0, 428, ...,   3,   0,   1],\n",
       "       ...,\n",
       "       [  0,   0,   1, ..., 480,   0,   0],\n",
       "       [  0,   0,   0, ...,   0, 440,   0],\n",
       "       [  0,   0,   2, ...,   0,   0, 405]], dtype=int64)"
      ]
     },
     "execution_count": 69,
     "metadata": {},
     "output_type": "execute_result"
    }
   ],
   "source": [
    "cm = confusion_matrix(Y_true,predicted_categories )\n",
    "cm.shape\n",
    "cm"
   ]
  },
  {
   "cell_type": "markdown",
   "id": "8822ace7-40b8-41a0-bbab-63dabaa8eb11",
   "metadata": {},
   "source": [
    "## Confusion Matrix visualizaion"
   ]
  },
  {
   "cell_type": "code",
   "execution_count": 77,
   "id": "8cb04f8f-3617-4642-89b0-1847eebf96ca",
   "metadata": {},
   "outputs": [
    {
     "data": {
      "image/png": "[encoded data removed]",
      "text/plain": [
       "<Figure size 4000x4000 with 2 Axes>"
      ]
     },
     "metadata": {},
     "output_type": "display_data"
    }
   ],
   "source": [
    "plt.figure(figsize=(40,40))\n",
    "sns.heatmap(cm,annot=True,annot_kws={'size':10})\n",
    "plt.xlabel(\"Pridicted class\",fontsize=20)\n",
    "plt.ylabel(\"Actual class\",fontsize=20)\n",
    "plt.title(\"Confusion Matrix\",fontsize=50)\n",
    "plt.show()"
   ]
  },
  {
   "cell_type": "code",
   "execution_count": null,
   "id": "c16eba71-ef3e-4524-a70e-268cebbb2336",
   "metadata": {},
   "outputs": [],
   "source": []
  }
 ],
 "metadata": {
  "kernelspec": {
   "display_name": "Python 3 (ipykernel)",
   "language": "python",
   "name": "python3"
  },
  "language_info": {
   "codemirror_mode": {
    "name": "ipython",
    "version": 3
   },
   "file_extension": ".py",
   "mimetype": "text/x-python",
   "name": "python",
   "nbconvert_exporter": "python",
   "pygments_lexer": "ipython3",
   "version": "3.11.7"
  }
 },
 "nbformat": 4,
 "nbformat_minor": 5
}
